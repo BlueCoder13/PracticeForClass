{
  "nbformat": 4,
  "nbformat_minor": 0,
  "metadata": {
    "colab": {
      "name": "Copy of Lab1.ipynb",
      "provenance": [],
      "collapsed_sections": [],
      "authorship_tag": "ABX9TyN+0YDQu9d0YYMH92Y44nmT",
      "include_colab_link": true
    },
    "kernelspec": {
      "name": "python3",
      "display_name": "Python 3"
    }
  },
  "cells": [
    {
      "cell_type": "markdown",
      "metadata": {
        "id": "view-in-github",
        "colab_type": "text"
      },
      "source": [
        "<a href=\"https://colab.research.google.com/github/BlueCoder13/PracticeForClass/blob/master/Copy_of_Lab1.ipynb\" target=\"_parent\"><img src=\"https://colab.research.google.com/assets/colab-badge.svg\" alt=\"Open In Colab\"/></a>"
      ]
    },
    {
      "cell_type": "code",
      "metadata": {
        "id": "LBb6QGdgJW9R",
        "colab_type": "code",
        "colab": {}
      },
      "source": [
        "Do you like using Jupyter Notebooks?"
      ],
      "execution_count": null,
      "outputs": []
    },
    {
      "cell_type": "markdown",
      "metadata": {
        "id": "tgjK4eBTJwGP",
        "colab_type": "text"
      },
      "source": [
        "this is my answer"
      ]
    },
    {
      "cell_type": "code",
      "metadata": {
        "id": "tiI0SEm1Jz45",
        "colab_type": "code",
        "colab": {}
      },
      "source": [
        "What do you want to learn more about in Jupyter Notebooks?"
      ],
      "execution_count": null,
      "outputs": []
    },
    {
      "cell_type": "markdown",
      "metadata": {
        "id": "XvGfxOm4J6mM",
        "colab_type": "text"
      },
      "source": [
        "this is my answer"
      ]
    },
    {
      "cell_type": "markdown",
      "metadata": {
        "id": "lO7rjsXqJ-we",
        "colab_type": "text"
      },
      "source": [
        "![snow leapoard](https://raw.githubusercontent.com/BlueCoder13/PracticeForClass/master/Images/winter_animals_by_dado23-d3eid5c.jpg)"
      ]
    }
  ]
}