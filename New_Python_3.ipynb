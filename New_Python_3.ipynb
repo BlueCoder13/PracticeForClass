{
  "nbformat": 4,
  "nbformat_minor": 0,
  "metadata": {
    "colab": {
      "name": "New Python 3.ipynb",
      "provenance": [],
      "authorship_tag": "ABX9TyMJTSzf1p7tH5O5ULAcsoYn",
      "include_colab_link": true
    },
    "kernelspec": {
      "name": "python3",
      "display_name": "Python 3"
    }
  },
  "cells": [
    {
      "cell_type": "markdown",
      "metadata": {
        "id": "view-in-github",
        "colab_type": "text"
      },
      "source": [
        "<a href=\"https://colab.research.google.com/github/BlueCoder13/PracticeForClass/blob/master/New_Python_3.ipynb\" target=\"_parent\"><img src=\"https://colab.research.google.com/assets/colab-badge.svg\" alt=\"Open In Colab\"/></a>"
      ]
    },
    {
      "cell_type": "code",
      "metadata": {
        "id": "4-9kovbXi8lC",
        "colab_type": "code",
        "colab": {}
      },
      "source": [
        ""
      ],
      "execution_count": null,
      "outputs": []
    },
    {
      "cell_type": "markdown",
      "metadata": {
        "id": "B6OU5f0TjAzv",
        "colab_type": "text"
      },
      "source": [
        "#1. Do you like using Jupyter Notebooks?"
      ]
    },
    {
      "cell_type": "markdown",
      "metadata": {
        "id": "JHEFLtz_jGv4",
        "colab_type": "text"
      },
      "source": [
        "Yes, I like using Jupyter Notebooks. It is pretty cool to learn and use."
      ]
    },
    {
      "cell_type": "markdown",
      "metadata": {
        "id": "OkkrNn-zjKzR",
        "colab_type": "text"
      },
      "source": [
        "#2. What do you want to learn more about in Jupyter Notebooks? "
      ]
    },
    {
      "cell_type": "markdown",
      "metadata": {
        "id": "IFpR_p0zjR5m",
        "colab_type": "text"
      },
      "source": [
        "I would like to learn more about the extent to which you can code in this notebook and how to share it with others. I also want to learn more about how to use code to create visual applications for example, graphs, charts, etc. and maybe even animations if possible."
      ]
    },
    {
      "cell_type": "markdown",
      "metadata": {
        "id": "Y0sWI5utq-dy",
        "colab_type": "text"
      },
      "source": [
        "![pink clouds in sky](https://raw.githubusercontent.com/BlueCoder13/PracticeForClass/master/Images/IMG_6956.jpg)"
      ]
    }
  ]
}